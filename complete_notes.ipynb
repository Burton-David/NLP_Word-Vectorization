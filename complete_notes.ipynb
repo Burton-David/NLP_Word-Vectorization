{
 "cells": [
  {
   "cell_type": "code",
   "execution_count": 4,
   "metadata": {
    "pycharm": {
     "is_executing": true,
     "name": "#%%\n"
    }
   },
   "outputs": [],
   "source": [
    "# import necessary libraries\n",
    "import pandas as pd\n",
    "import numpy as np\n",
    "\n",
    "# data visualization libraries\n",
    "# from mpl_toolkits.mplot3d import Axes3D\n",
    "# import matplotlib.pyplot as plt\n",
    "# %matplotlib inline\n",
    "from sklearn.manifold import TSNE\n",
    "import nltk\n",
    "# nltk.download('punkt') #uncomment to run first time only\n",
    "from nltk.tokenize import word_tokenize\n",
    "np.random.seed(0)\n"
   ]
  },
  {
   "cell_type": "code",
   "execution_count": 5,
   "metadata": {
    "pycharm": {
     "is_executing": false,
     "name": "#%%\n"
    }
   },
   "outputs": [],
   "source": [
    "# import the state of the union addresses\n",
    "from nltk.corpus import state_union"
   ]
  },
  {
   "cell_type": "code",
   "execution_count": 6,
   "metadata": {
    "pycharm": {
     "is_executing": false,
     "name": "#%%\n"
    }
   },
   "outputs": [
    {
     "name": "stdout",
     "output_type": "stream",
     "text": [
      "[\"PRESIDENT HARRY S. TRUMAN'S ADDRESS BEFORE A JOINT SESSION OF THE CONGRESS\\n\", ' \\n', 'April 16, 1945\\n', '\\n', 'Mr. Speaker, Mr. President, Members of the Congress:\\n', 'It is with a heavy heart that I stand before you, my friends and colleagues, in the Congress of the United States.\\n', 'Only yesterday, we laid to rest the mortal remains of our beloved President, Franklin Delano Roosevelt. At a time like this, words are inadequate. The most eloquent tribute would be a reverent silence.\\n', 'Yet, in this decisive hour, when world events are moving so rapidly, our silence might be misunderstood and might give comfort to our enemies.\\n', 'In His infinite wisdom, Almighty God has seen fit to take from us a great man who loved, and was beloved by, all humanity.\\n', 'No man could possibly fill the tremendous void left by the passing of that noble soul. No words can ease the aching hearts of untold millions of every race, creed and color. The world knows it has lost a heroic champion of justice and freedom.\\n', 'Tragic fate has thrust upon us grave responsibilities. We must carry on.Our departed leader never looked backward. He looked forward and moved forward. That is what he would want us to do. That is what America will do.\\n', 'So much blood has already been shed for the ideals which we cherish, and for which Franklin Delano Roosevelt lived and died, that we dare not permit even a momentary pause in the hard fight for victory.\\n', 'Today, the entire world is looking to America for enlightened leadership to peace and progress. Such a leadership requires vision, courage and tolerance. It can be provided only by a united nation deeply devoted to the highest ideals.\\n', 'With great humility I call upon all Americans to help me keep our nation united in defense of those ideals which have been so eloquently proclaimed by Franklin Roosevelt.\\n', 'I want in turn to assure my fellow Americans and all of those who love peace and liberty throughout the world that I will support and defend those ideals with all my strength and all my heart. That is my duty and I shall not shirk it.\\n', 'So that there can be no possible misunderstanding, both Germany and Japan can be certain, beyond any shadow of a doubt, that America will continue the fight for freedom until no vestige of resistance remains!\\n', 'We are deeply conscious of the fact that much hard fighting is still ahead of us.\\n', 'Having to pay such a heavy price to make complete victory certain, America will never become a party to any plan for partial victory!\\n', 'To settle for merely another temporary respite would surely jeopardize the future security of all the world.\\n', 'Our demand has been, and it remains-Unconditional Surrender! We will not traffic with the breakers of the peace on the terms of the peace.\\n', 'The responsibility for making of the peace-and it is a very grave responsibility-must rest with the defenders of the peace. We are not unconscious of the dictates of humanity. We do not wish to see unnecessary or unjustified suffering. But the laws of Go d and of man have been violated and the guilty must not go unpunished. Nothing shall shake our determination to punish the war criminals even though we must pursue them to the ends of the earth.\\n', 'Lasting peace can never be secured if we permit our dangerous opponents to plot future wars with impunity at any mountain retreat - however distant.\\n', 'In this shrinking world, it is futile to seek safety behind geographical barriers. Real security will be found only in law and in justice.\\n', 'Here in America, we have labored long and hard to achieve a social order worthy of our great heritage. In our time, tremendous progress has been made toward a really democratic way of life. Let me assure the forward-looking people of America that there w ill be no relaxation in our efforts to improve the lot of the common people.\\n', 'In the difficult days ahead, unquestionably we shall face problems of staggering proportions. However, with the faith of our fathers in our hearts, we do not fear the future.\\n', 'On the battlefields, we have frequently faced overwhelming odds - and won! At home, Americans will not be less resolute! We shall never cease our struggle to preserve and maintain our American way of life.\\n', 'At this moment, America, along with her brave Allies, is paying again a heavy price for the defense of our freedom. With characteristic energy, we are assisting in the liberation of entire nations. Gradually, the shackles of slavery are being broken by t he forces of freedom.\\n', 'All of us are praying for a speedy victory. Every day peace is delayed costs a terrible toll.\\n', \"The armies of liberation today are bringing to an end Hitler's ghastly threat to dominate the world. Tokyo rocks under the weight of our bombs.\\n\", \"The grand strategy of the United Nations' war has been determined - due in no small measure to the vision of our departed Commander in Chief. We are now carrying out our part of that strategy under the able direction of Admiral Leahy, General Marshall, A dmiral King, General Arnold, General Eisenhower, Admiral Nimitz and General MacArthur.\\n\", 'I want the entire world to know that this direction must and will remain-unchanged and unhampered!\\n', 'Our debt to the heroic men and valiant women in the service of our country can never be repaid. They have earned our undying gratitude. America will never forget their sacrifices. Because of these sacrifices, the dawn of justice and freedom throughout th e world slowly casts its gleam across the horizon.\\n', 'Our forefathers came to our rugged shores in search of religious tolerance, political freedom and economic opportunity. For those fundamental rights, they risked their lives. We well know today that such rights can be preserved only by constant vigilance , the eternal price of liberty!\\n', 'Within an hour after I took the oath of office, I announced that the San Francisco Conference would proceed. We will face the problems of peace with the same courage that we have faced and mastered the problems of war.\\n', 'In the memory of those who have made the supreme sacrifice-in the memory of our fallen President-we shall not fail!\\n', 'It is not enough to yearn for peace. We must work, and if necessary, fight for it. The task of creating a sound international organization is complicated and difficult. Yet, without such organization, the rights of man on earth cannot be protected. Machi nery for the just settlement of international differences must be found. Without such machinery, the entire world will have to remain an armed camp. The world will be doomed to deadly conflict, devoid of hope for real peace.\\n', 'Fortunately, people have retained hope for a durable peace. Thoughtful people have always had faith that ultimately justice must triumph. Past experience surely indicates that, without justice, an enduring peace becomes impossible.\\n', 'In bitter despair, some people have come to believe that wars are inevitable. With tragic fatalism, they insist that wars have always been, of necessity, and of necessity wars always will be. To such defeatism, men and women of good will must not and can not yield. The outlook for humanity is not so hopeless.\\n', 'During the dark hours of this horrible war, entire nations were kept going by something intangible-hope! When warned that abject submission offered the only salvation against overwhelming power, hope showed the way to victory.\\n', 'Hope has become the secret weapon of the forces of liberation!\\n', 'Aggressors could not dominate the human mind. As long as hope remains, the spirit of man will never be crushed.\\n', \"But hope alone was not and is not sufficient to avert war. We must not only have hope but we must have faith enough to work with other peace-loving nations to maintain the peace. Hope was not enough to beat back the aggressors as long as the peace-loving nations were unwilling to come to each other's defense. The aggressors were beaten back only when the peace-loving nations united to defend themselves.\\n\", 'If wars in the future are to be prevented the nations must be united in their determination to keep the peace under law.\\n', 'Nothing is more essential to the future peace of the world than continued cooperation of the nations which had to muster the force necessary to defeat the conspiracy of the Axis powers to dominate the world.\\n', 'While these great states have a special responsibility to enforce the peace, their responsibility is based upon the obligations resting upon all states, large and small, not to use force in international relations except in the defense of law. The respon sibility of the great states is to serve and not to dominate the world.\\n', 'To build a foundation of enduring peace we must not only work in harmony with our friends abroad, but we must have the united support of our own people.\\n', 'Even the most experienced pilot cannot bring a ship safely into harbor, unless he has the full cooperation of the crew. For the benefit of all, every individual must do his duty.\\n', 'I appeal to every American, regardless of party, race, creed, or color, to support our efforts to build a strong and lasting United Nations Organization.\\n', 'You, the Members of the Congress, surely know how I feel. Only with your help can I hope to complete one of the greatest tasks ever assigned to a public servant. With Divine guidance, and your help, we will find the new passage to a far better world, a kindly and friendly world, with just and lasting peace.\\n', 'With confidence, I am depending upon all of you.\\n', 'To destroy greedy tyrants with dreams of world domination, we cannot continue in successive generations to sacrifice our finest youth.\\n', 'In the name of human decency and civilization, a more rational method of deciding national differences must and will be found!\\n', 'America must assist suffering humanity back along the path of peaceful progress. This will require time and tolerance. We shall need also an abiding faith in the people, the kind of faith and courage which Franklin Delano Roosevelt always had!\\n', 'Today, America has become one of the most powerful forces for good on earth. We must keep it so. We have achieved a world leadership which does not depend solely upon our military and naval might.\\n', 'We have learned to fight with other nations in common defense of our freedom. We must now learn to live with other nations for our mutual good. We must learn to trade more with other nations so that there may be-for our mutual advantage-increased product ion, increased employment and better standards of living throughout the world.\\n', 'May we Americans all live up to our glorious heritage.\\n', 'In that way, America may well lead the world to peace and prosperity.\\n', 'At this moment, I have in my heart a prayer. As I have assumed my heavy duties, I humbly pray Almighty God, in the words of King Solomon:\\n', '\"Give therefore thy servant an understanding heart to judge thy people, that I may discern between good and bad; for who is able to judge this thy so great a people?\"\\n', 'I ask only to be a good and faithful servant of my Lord and my people.\\n']\n"
     ]
    }
   ],
   "source": [
    "# store state of the union address as a list\n",
    "speech_list = list(state_union.fileids())\n",
    "\n",
    "\n",
    "# import a single speech to see what our text looks like so that we can make sure we clean and tokenize it correctly.\n",
    "with open('data/1945-Truman.txt') as f:\n",
    "    test_speech = f.readlines()\n",
    "    print(test_speech)"
   ]
  },
  {
   "cell_type": "code",
   "execution_count": 7,
   "metadata": {
    "pycharm": {
     "is_executing": false,
     "name": "#%%\n"
    }
   },
   "outputs": [],
   "source": [
    "filenames = [\n",
    "    '1945-Truman.txt', '1966-Johnson.txt', '1988-Reagan.txt',\n",
    "    '1946-Truman.txt', '1967-Johnson.txt', '1989-Bush.txt', \n",
    "    '1947-Truman.txt', '1968-Johnson.txt', '1990-Bush.txt',\n",
    "    '1948-Truman.txt', '1969-Johnson.txt', '1949-Truman.txt',\n",
    "    '1991-Bush-1.txt', '1970-Nixon.txt', '1991-Bush-2.txt',\n",
    "    '1950-Truman.txt', '1971-Nixon.txt', '1992-Bush.txt',\n",
    "    '1951-Truman.txt', '1972-Nixon.txt', '1993-Clinton.txt',\n",
    "    '1953-Eisenhower.txt',  '1973-Nixon.txt', '1994-Clinton.txt',\n",
    "    '1954-Eisenhower.txt',  '1974-Nixon.txt', '1995-Clinton.txt',\n",
    "    '1955-Eisenhower.txt', '1975-Ford.txt', '1996-Clinton.txt',\n",
    "    '1956-Eisenhower.txt', '1976-Ford.txt', '1997-Clinton.txt',\n",
    "    '1957-Eisenhower.txt', '1977-Ford.txt', '1998-Clinton.txt',\n",
    "    '1958-Eisenhower.txt', '1978-Carter.txt', '1999-Clinton.txt',\n",
    "    '1959-Eisenhower.txt', '1979-Carter.txt', '2000-Clinton.txt',\n",
    "    '1960-Eisenhower.txt', '1980-Carter.txt', '2001-GWBush-1.txt',\n",
    "    '1961-Kennedy.txt', '1981-Reagan.txt', '2001-GWBush-2.txt',\n",
    "    '1962-Kennedy.txt', '1982-Reagan.txt', '2002-GWBush.txt',\n",
    "    '1963-Johnson.txt', '1983-Reagan.txt', '2003-GWBush.txt',\n",
    "    '1963-Kennedy.txt', '1984-Reagan.txt', '2004-GWBush.txt',\n",
    "    '1964-Johnson.txt', '1985-Reagan.txt', '2005-GWBush.txt',\n",
    "    '1965-Johnson-1.txt', '1986-Reagan.txt', '2006-GWBush.txt',\n",
    "    \"1965-Johnson-2.txt\", '1987-Reagan.txt'\n",
    "]"
   ]
  },
  {
   "cell_type": "code",
   "execution_count": 8,
   "metadata": {
    "pycharm": {
     "is_executing": false,
     "name": "#%%\n"
    }
   },
   "outputs": [],
   "source": [
    "# make every word lowercase, remove newline characters \\n, and any of the following punctuation marks: \",.'?!\"\n",
    "# remove -- [laughter]-- or other audience reactions\n",
    "def clean_speech(speech):\n",
    "    cleaned_speech = []\n",
    "    for line in speech:\n",
    "        if not '[' in line and  not ']' in line:\n",
    "            for symbol in \"-,.?!''\\n\":\n",
    "                line = line.replace(symbol, '').lower()\n",
    "            cleaned_speech.append(line)\n",
    "\n",
    "    return cleaned_speech\n",
    "\n",
    "scrubbed_speech = clean_speech(test_speech)\n",
    "# Sanity-Check\n",
    "# scrubbed_speech"
   ]
  },
  {
   "cell_type": "code",
   "execution_count": 9,
   "metadata": {
    "pycharm": {
     "is_executing": false,
     "name": "#%%\n"
    }
   },
   "outputs": [
    {
     "data": {
      "text/plain": [
       "['president',\n",
       " 'harry',\n",
       " 's',\n",
       " 'trumans',\n",
       " 'address',\n",
       " 'before',\n",
       " 'a',\n",
       " 'joint',\n",
       " 'session',\n",
       " 'of']"
      ]
     },
     "execution_count": 9,
     "metadata": {},
     "output_type": "execute_result"
    }
   ],
   "source": [
    "def tokenize(speech):\n",
    "    \"\"\"\n",
    "    :param speech: \n",
    "    joins all words as single string \n",
    "    \n",
    "    :return: \n",
    "    fully tokenized version of the speech\n",
    "    \"\"\"\n",
    "    joined_speech = ' '.join(speech)\n",
    "    tokenized_speech = word_tokenize(joined_speech)\n",
    "    \n",
    "    return tokenized_speech\n",
    "\n",
    "tokenized_test_speech = tokenize(scrubbed_speech)\n",
    "tokenized_test_speech[:10]"
   ]
  },
  {
   "cell_type": "code",
   "execution_count": 10,
   "metadata": {
    "pycharm": {
     "is_executing": false,
     "name": "#%%\n"
    }
   },
   "outputs": [
    {
     "name": "stdout",
     "output_type": "stream",
     "text": [
      "{'preserve': 1, 'unnecessary': 1, 'leader': 1, 'lot': 1, 'duty': 2, 'faith': 5, 'suffering': 2, 'out': 1, 'was': 3, 'fathers': 1, 'doomed': 1, 'human': 2, 'great': 6, 'lost': 1, 'dmiral': 1, 'aggressors': 3, 'me': 2, 'dark': 1, 'tribute': 1, 'entire': 5, 'require': 1, 'certain': 2, 'tragic': 2, 'people': 10, 'men': 2, 'direction': 2, 'find': 1, 'retreat': 1, 'preserved': 1, 'looked': 2, 'something': 1, 'made': 2, 'prevented': 1, 'achieved': 1, 'protected': 1, 'barriers': 1, 'some': 1, 'glorious': 1, 'man': 5, 'am': 1, 'noble': 1, 'women': 2, 'secured': 1, 'humbly': 1, 'partial': 1, 'guidance': 1, 'indicates': 1, 'conflict': 1, 'and': 52, 'tokyo': 1, 'continued': 1, 'yield': 1, 'support': 3, 'making': 1, 'as': 5, 'almighty': 2, 'obligations': 1, 'pilot': 1, 'befor': 1, 'standards': 1, 'powers': 1, 'unhampered': 1, 'bring': 1, 'lord': 1, 'faced': 2, 'sibility': 1, 'has': 10, 'earned': 1, 'between': 1, 'can': 12, 'presidentwe': 1, 'therefore': 1, 'showed': 1, 'champion': 1, 'make': 1, 'fit': 1, 'abject': 1, 'conspiracy': 1, 'within': 1, 'announced': 1, 'unjustified': 1, 'backward': 1, 'distant': 1, 'macarthur': 1, 'mr': 2, 'democratic': 1, 'admiral': 2, 'fate': 1, 'yesterday': 1, 'temporary': 1, 'grave': 2, 'thrust': 1, 'deeply': 2, 'living': 1, 'your': 2, 'determination': 2, 'task': 1, 'momentary': 1, 'without': 3, 'took': 1, 'peaceful': 1, 'take': 1, 'praying': 1, 'except': 1, 'united': 8, 'ends': 1, 'horrible': 1, 'another': 1, 'are': 11, 't': 1, 'its': 1, 'unquestionably': 1, 'stand': 1, 'progress': 3, 'much': 2, 'not': 25, 'forward': 2, 'speaker': 1, 'unwilling': 1, 'assure': 2, 'members': 2, 'back': 3, 'traffic': 1, 'large': 1, 'avert': 1, 'most': 3, 'lived': 1, 'remainunchanged': 1, 'continue': 2, 'valiant': 1, 'events': 1, 'futile': 1, 'speedy': 1, 'slowly': 1, 'we': 34, 'inevitable': 1, 'economic': 1, 'sacrificein': 1, 'bad': 1, 'nery': 1, 'demand': 1, 'it': 10, 'at': 5, 'understanding': 1, 'responsibilitymust': 1, 'allies': 1, 'themselves': 1, 'spirit': 1, 'assigned': 1, 'war': 5, 'warned': 1, 'throughout': 3, 'fight': 4, 'friendly': 1, 'congress': 4, 'had': 3, 'won': 1, 'naval': 1, 'more': 3, 'americans': 4, 'an': 6, 'call': 1, 'ghastly': 1, 'dominate': 4, 'w': 1, 'inadequate': 1, 'gradually': 1, 'plot': 1, 'earth': 3, 'real': 2, 'up': 1, 'casts': 1, 'very': 1, 'wisdom': 1, 'tyrants': 1, 'president': 3, 'colleagues': 1, 'roosevelt': 4, 'conscious': 1, 'gleam': 1, 'advantageincreased': 1, 'weapon': 1, 'san': 1, 'or': 2, 'really': 1, 'outlook': 1, 'soul': 1, 'sacrifice': 1, 'strength': 1, 'yearn': 1, 'ill': 1, 'the': 115, 'well': 2, 'threat': 1, 'want': 3, 'be': 20, 'behind': 1, 'force': 2, 'proclaimed': 1, 'divine': 1, 'never': 7, 'what': 2, 'labored': 1, 'destroy': 1, 'serve': 1, 'one': 2, 'but': 4, 'america': 11, 'for': 21, 'fortunately': 1, 'opportunity': 1, 'lasting': 3, 'nothing': 2, 'peace': 19, 'seen': 1, 'dreams': 1, 'go': 2, 'rugged': 1, 'justice': 5, 'resting': 1, 'harmony': 1, 'unless': 1, 'how': 1, 'void': 1, 'states': 4, 'impunity': 1, 'to': 67, 'going': 1, 'shackles': 1, ';': 1, 'vision': 2, 'merely': 1, 'punish': 1, 'breakers': 1, 'th': 1, 'brave': 1, 'sacrifices': 2, 'finest': 1, 'triumph': 1, 'hearts': 2, 'prosperity': 1, 'francisco': 1, 'vestige': 1, 'mutual': 2, 'against': 1, 'joint': 1, 'hopeless': 1, 'provided': 1, 'mortal': 1, 'learn': 2, 'salvation': 1, 'like': 1, 'forefathers': 1, 'camp': 1, '1945': 1, 'full': 1, 'beat': 1, 'thy': 3, 'conference': 1, 'd': 1, 'determined': 1, 'moving': 1, 'search': 1, 'hitlers': 1, 'terms': 1, 'need': 1, 'eloquently': 1, 'tremendous': 2, 'yet': 2, 'creating': 1, 'tolerance': 3, 'wish': 1, 'all': 11, 'hard': 3, 'infinite': 1, 'crew': 1, 'cease': 1, 'sound': 1, 'better': 2, 'enough': 3, 'jeopardize': 1, 'differences': 2, 'sufficient': 1, 'blood': 1, 'give': 2, 'depend': 1, 'silence': 2, 'party': 2, 'law': 3, 'due': 1, 'laws': 1, 'overwhelming': 2, 'risked': 1, 'would': 4, 'pause': 1, 'though': 1, 'every': 4, 'life': 2, 'energy': 1, 'defenders': 1, 'nations': 12, 'laid': 1, 'successive': 1, 'deadly': 1, 'us': 5, 'shake': 1, 'is': 18, 'office': 1, 'forces': 3, 'by': 7, 'way': 4, 'which': 6, 'dangerous': 1, 'on': 4, 'worthy': 1, 'debt': 1, 'leadership': 3, 'country': 1, 'during': 1, 'world': 20, 'kind': 1, 'race': 2, 'love': 1, 'work': 3, 'common': 2, 'judge': 2, 'intangiblehope': 1, 'regardless': 1, 'victory': 5, 'respon': 1, 'only': 10, 'permit': 2, 'public': 1, 'durable': 1, 'hope': 9, 'unconscious': 1, 'path': 1, 'no': 6, 'millions': 1, 'does': 1, 'machinery': 1, 'abiding': 1, 'their': 4, 'hour': 2, 'shirk': 1, 'along': 2, 'benefit': 1, 'horizon': 1, 'liberty': 2, 'when': 3, 'misunderstanding': 1, 'were': 3, 'depending': 1, 'might': 3, 'across': 1, 'terrible': 1, 'mastered': 1, 'trade': 1, 'staggering': 1, 'plan': 1, 'remainsunconditional': 1, 'fail': 1, 'characteristic': 1, 'special': 1, 'after': 1, 'nation': 2, 'heritage': 2, 'passage': 1, 'words': 3, 'loved': 1, 'toll': 1, 'religious': 1, 'assist': 1, 'keep': 3, 'under': 3, 'moved': 1, 'possible': 1, 'fear': 1, 'paying': 1, 'complete': 2, 'here': 1, 'armies': 1, 'lead': 1, 'knows': 1, 'difficult': 2, 'strategy': 2, 'beaten': 1, 'eisenhower': 1, 'product': 1, 'e': 1, 'international': 3, 'ion': 1, 'peaceand': 1, 'armed': 1, 'untold': 1, 'strong': 1, 'face': 2, 'any': 3, 'found': 3, 'far': 1, 'just': 2, 'beloved': 2, 'less': 1, 'american': 2, 'service': 1, 'alone': 1, 'settle': 1, 'criminals': 1, 'defend': 2, 'power': 1, 'heroic': 2, 'color': 2, 'abroad': 1, 'leahy': 1, 'departed': 2, 'settlement': 1, 'shall': 6, 'offered': 1, 'them': 1, 'measure': 1, 'battlefields': 1, 'dawn': 1, 'rights': 3, 'harbor': 1, 'enforce': 1, 'toward': 1, 'until': 1, 'commander': 1, 'possibly': 1, 'shores': 1, 'crushed': 1, 'from': 1, 'having': 1, 'costs': 1, 'frequently': 1, 'harry': 1, 'experienced': 1, 'thoughtful': 1, 'general': 4, 'foundation': 1, 'fatalism': 1, 'with': 21, 'shadow': 1, 'arnold': 1, 'rest': 2, 'safety': 1, 'now': 2, 'constant': 1, 'also': 1, 'oath': 1, 'long': 3, 'misunderstood': 1, 'undying': 1, 'will': 18, ':': 2, 'servant': 3, 'rapidly': 1, 'maintain': 2, 'highest': 1, 'safely': 1, 'become': 3, 'however': 2, 'name': 1, 'unpunished': 1, 'retained': 1, 'same': 1, 'end': 1, 'believe': 1, 'relaxation': 1, 'seek': 1, 'these': 2, 'faithful': 1, 'machi': 1, 'bombs': 1, 'cooperation': 2, 'rocks': 1, 'could': 2, 'fact': 1, 'even': 3, 'my': 9, 'comfort': 1, 'eternal': 1, 'our': 33, 'before': 2, 'based': 1, 'franklin': 4, 'learned': 1, 'of': 86, 'experience': 1, 'king': 2, 'i': 17, 'pay': 1, 'peaceloving': 3, 'other': 4, 'resistance': 1, 'shed': 1, 'ship': 1, 'future': 5, 'price': 3, 'remain': 1, 'he': 4, 'feel': 1, 'doubt': 1, 'carry': 1, 'delano': 3, 'know': 3, 'order': 1, 'enduring': 2, 'increased': 1, 'proportions': 1, 'ease': 1, 'vigilance': 1, 'defense': 5, 'ask': 1, \"''\": 1, 'tasks': 1, 'insist': 1, 'grand': 1, 'powerful': 1, 'time': 3, 'still': 1, 'deciding': 1, 'nimitz': 1, 'turn': 1, 'this': 9, 'use': 1, 'greatest': 1, 'dare': 1, 'humanity': 4, 'new': 1, 'generations': 1, 'see': 1, 'remains': 3, 'courage': 3, 'impossible': 1, 'appeal': 1, 'heavy': 4, 'upon': 6, 'passing': 1, 'eloquent': 1, 'dictates': 1, 'supreme': 1, 'surely': 3, 'becomes': 1, 'others': 1, 'april': 1, 'own': 1, 'a': 33, 'that': 24, 'political': 1, 'session': 1, 'mind': 1, 'his': 2, 'such': 6, 'secret': 1, 'enemies': 1, 'beyond': 1, 'respite': 1, 'small': 2, 'heart': 4, 'fundamental': 1, 'in': 33, 'decisive': 1, 'aching': 1, 'both': 1, 'struggle': 1, 'good': 5, 'greedy': 1, 'day': 1, 'assisting': 1, 'slavery': 1, 'requires': 1, 'those': 5, 'devoid': 1, 'civilization': 1, 'employment': 1, '``': 1, 'help': 3, 'her': 1, 'repaid': 1, 'left': 1, 'lives': 1, 'rational': 1, 'submission': 1, 'necessary': 2, 'organization': 3, 'achieve': 1, 'domination': 1, 'prayer': 1, 'already': 1, 'do': 5, 'friends': 2, 'devoted': 1, 'axis': 1, 'gratitude': 1, 'despair': 1, 'freedom': 7, 'kept': 1, 'home': 1, 'able': 2, 'delayed': 1, 'cherish': 1, 'ever': 1, 'liberation': 3, 'again': 1, 'days': 1, 'odds': 1, 'mountain': 1, 'forwardlooking': 1, 'died': 1, 'security': 2, 'bitter': 1, 'responsibility': 3, 'ultimately': 1, 'into': 1, 'confidence': 1, 'social': 1, 'geographical': 1, 'germany': 1, 'god': 2, 'because': 1, 'trumans': 1, 'broken': 1, 'fighting': 1, 'necessity': 2, 'let': 1, 'if': 3, 'youth': 1, 'assumed': 1, 'muster': 1, 'been': 7, 'than': 1, 'you': 3, 'enlightened': 1, 'moment': 2, 'weight': 1, 'address': 1, 'come': 2, 'resolute': 1, 'creed': 2, 'opponents': 1, 'hours': 1, 'defeatism': 1, 'fill': 1, 'solely': 1, 'part': 1, 'kindly': 1, 'complicated': 1, 'responsibilities': 1, 'japan': 1, 'may': 4, 'improve': 1, '16': 1, 'came': 1, 'pray': 1, 'looking': 1, 's': 1, 'forget': 1, 'ideals': 4, 'they': 3, 'humility': 1, 'defeat': 1, 'must': 19, 'individual': 1, 'surrender': 1, 'fallen': 1, 'onour': 1, 'past': 1, 'essential': 1, 'who': 4, 'wars': 5, 'solomon': 1, 'method': 1, 'today': 4, 'chief': 1, 'proceed': 1, 'build': 2, 'national': 1, 'have': 20, 'fellow': 1, 'reverent': 1, 'so': 8, 'live': 2, 'decency': 1, 'discern': 1, 'memory': 2, 'shrinking': 1, 'marshall': 1, 'pursue': 1, 'carrying': 1, 'efforts': 2, 'problems': 3, 'being': 1, 'each': 1, 'bringing': 1, 'violated': 1, 'ahead': 2, 'while': 1, 'military': 1, 'there': 3, 'relations': 1, 'guilty': 1, 'always': 4, 'duties': 1}\n"
     ]
    }
   ],
   "source": [
    "# convert the entire text into a vector, where each element in the vector represents a different word. The vector is the \n",
    "# length of the entire vocabulary--usually, every word that occurs in the English language, or at least every word that appears in our corpus. Any given sentence can then be represented as a vector where all the vector is 1 (or some other value) for each time that word appears in the sentence.\n",
    "\n",
    "def count_vectorize(speech, vocab=None):\n",
    "    \"\"\"\n",
    "    \n",
    "    :param speech: \n",
    "    :param vocab: \n",
    "    takes in a tokenized, cleaned song\n",
    "    \n",
    "    :return: \n",
    "    returns a Count Vectorized representation of speech as a python dictionary\n",
    "    \"\"\"\n",
    "    \n",
    "    if vocab:\n",
    "        unique_words = vocab\n",
    "    else:\n",
    "        unique_words = list(set(speech))\n",
    "    \n",
    "    speech_dict = {i:0 for i in unique_words}\n",
    "    \n",
    "    for word in speech:\n",
    "        speech_dict[word] += 1\n",
    "    \n",
    "    return speech_dict\n",
    "\n",
    "test_vectorized = count_vectorize(tokenized_test_speech)\n",
    "print(test_vectorized)"
   ]
  },
  {
   "cell_type": "code",
   "execution_count": 11,
   "metadata": {
    "pycharm": {
     "is_executing": false,
     "name": "#%%\n"
    }
   },
   "outputs": [
    {
     "name": "stdout",
     "output_type": "stream",
     "text": [
      "['doomed', 'human', 'great', 'lost', 'dmiral', 'aggressors', 'me', 'dark', 'tribute', 'entire']\n"
     ]
    }
   ],
   "source": [
    "# calculate the term frequency\n",
    "\n",
    "def term_frequency(BoW_dict):\n",
    "    total_word_count = sum(BoW_dict.values())\n",
    "    \n",
    "    for ind, val in BoW_dict.items():\n",
    "        BoW_dict[ind] = val/ total_word_count\n",
    "    \n",
    "    return BoW_dict\n",
    "\n",
    "test = term_frequency(test_vectorized)\n",
    "print(list(test)[10:20])"
   ]
  },
  {
   "cell_type": "code",
   "execution_count": 12,
   "metadata": {
    "pycharm": {
     "is_executing": false,
     "name": "#%%\n"
    }
   },
   "outputs": [],
   "source": [
    "# calculate Inverse Document Frequency\n",
    "def inverse_document_frequency(list_of_dicts):\n",
    "    vocab_set = set()\n",
    "    # Iterate through list of dfs and add index to vocab_set\n",
    "    for d in list_of_dicts:\n",
    "        for word in d.keys():\n",
    "            vocab_set.add(word)\n",
    "    \n",
    "    # Once vocab set is complete, create an empty dictionary with a key for each word and value of 0.\n",
    "    full_vocab_dict = {i:0 for i in vocab_set}\n",
    "    \n",
    "    # Loop through each word in full_vocab_dict\n",
    "    for word, val in full_vocab_dict.items():\n",
    "        docs = 0\n",
    "        \n",
    "        # Loop through list of dicts.  Each time a dictionary contains the word, increment docs by 1\n",
    "        for d in list_of_dicts:\n",
    "            if word in d:\n",
    "                docs += 1\n",
    "        \n",
    "        # Now that we know denominator for equation, compute and set IDF value for word\n",
    "        \n",
    "        full_vocab_dict[word] = np.log((len(list_of_dicts)/ float(docs)))\n",
    "    \n",
    "    return full_vocab_dict\n",
    "\n"
   ]
  },
  {
   "cell_type": "code",
   "execution_count": 13,
   "metadata": {
    "pycharm": {
     "is_executing": false,
     "name": "#%%\n"
    }
   },
   "outputs": [],
   "source": [
    "def tf_idf(list_of_dicts):\n",
    "    # Create empty dictionary containing full vocabulary of entire corpus\n",
    "    doc_tf_idf = {}\n",
    "    idf = inverse_document_frequency(list_of_dicts)\n",
    "    full_vocab_list = {i:0 for i in list(idf.keys())}\n",
    "    \n",
    "    # Create tf-idf list of dictionaries, containing a dictionary that will be updated for each document\n",
    "    tf_idf_list_of_dicts = []\n",
    "    \n",
    "    # Now, compute tf and then use this to compute and set tf-idf values for each document\n",
    "    for doc in list_of_dicts:\n",
    "        doc_tf = term_frequency(doc)\n",
    "        for word in doc_tf:\n",
    "            doc_tf_idf[word] = doc_tf[word] * idf[word]\n",
    "        tf_idf_list_of_dicts.append(doc_tf_idf)\n",
    "    \n",
    "    return tf_idf_list_of_dicts"
   ]
  }
 ],
 "metadata": {
  "kernelspec": {
   "display_name": "Python 3",
   "language": "python",
   "name": "python3"
  },
  "language_info": {
   "codemirror_mode": {
    "name": "ipython",
    "version": 3
   },
   "file_extension": ".py",
   "mimetype": "text/x-python",
   "name": "python",
   "nbconvert_exporter": "python",
   "pygments_lexer": "ipython3",
   "version": "3.8.1"
  },
  "pycharm": {
   "stem_cell": {
    "cell_type": "raw",
    "source": [],
    "metadata": {
     "collapsed": false
    }
   }
  }
 },
 "nbformat": 4,
 "nbformat_minor": 1
}