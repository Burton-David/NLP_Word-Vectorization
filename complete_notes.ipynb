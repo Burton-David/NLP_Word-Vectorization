{
 "cells": [
  {
   "cell_type": "code",
   "execution_count": 1,
   "outputs": [],
   "source": [
    "import pandas as pd\n",
    "import numpy as np\n",
    "from mpl_toolkits.mplot3d import Axes3D\n",
    "import matplotlib.pyplot as plt\n",
    "%matplotlib inline\n",
    "from sklearn.manifold import TSNE\n",
    "import nltk\n",
    "np.random.seed(0)"
   ],
   "metadata": {
    "collapsed": false,
    "pycharm": {
     "name": "#%%\n",
     "is_executing": false
    }
   }
  },
  {
   "cell_type": "code",
   "execution_count": 14,
   "outputs": [],
   "source": [
    "from nltk.corpus import state_union"
   ],
   "metadata": {
    "collapsed": false,
    "pycharm": {
     "name": "#%%\n",
     "is_executing": false
    }
   }
  },
  {
   "cell_type": "code",
   "execution_count": 17,
   "outputs": [],
   "source": [
    "# store state of the union address as a list\n",
    "speech_list = list(state_union.fileids())"
   ],
   "metadata": {
    "collapsed": false,
    "pycharm": {
     "name": "#%%\n",
     "is_executing": false
    }
   }
  },
  {
   "cell_type": "code",
   "execution_count": 18,
   "outputs": [
    {
     "data": {
      "text/plain": "['1945-Truman.txt',\n '1946-Truman.txt',\n '1947-Truman.txt',\n '1948-Truman.txt',\n '1949-Truman.txt',\n '1950-Truman.txt',\n '1951-Truman.txt',\n '1953-Eisenhower.txt',\n '1954-Eisenhower.txt',\n '1955-Eisenhower.txt',\n '1956-Eisenhower.txt',\n '1957-Eisenhower.txt',\n '1958-Eisenhower.txt',\n '1959-Eisenhower.txt',\n '1960-Eisenhower.txt',\n '1961-Kennedy.txt',\n '1962-Kennedy.txt',\n '1963-Johnson.txt',\n '1963-Kennedy.txt',\n '1964-Johnson.txt',\n '1965-Johnson-1.txt',\n '1965-Johnson-2.txt',\n '1966-Johnson.txt',\n '1967-Johnson.txt',\n '1968-Johnson.txt',\n '1969-Johnson.txt',\n '1970-Nixon.txt',\n '1971-Nixon.txt',\n '1972-Nixon.txt',\n '1973-Nixon.txt',\n '1974-Nixon.txt',\n '1975-Ford.txt',\n '1976-Ford.txt',\n '1977-Ford.txt',\n '1978-Carter.txt',\n '1979-Carter.txt',\n '1980-Carter.txt',\n '1981-Reagan.txt',\n '1982-Reagan.txt',\n '1983-Reagan.txt',\n '1984-Reagan.txt',\n '1985-Reagan.txt',\n '1986-Reagan.txt',\n '1987-Reagan.txt',\n '1988-Reagan.txt',\n '1989-Bush.txt',\n '1990-Bush.txt',\n '1991-Bush-1.txt',\n '1991-Bush-2.txt',\n '1992-Bush.txt',\n '1993-Clinton.txt',\n '1994-Clinton.txt',\n '1995-Clinton.txt',\n '1996-Clinton.txt',\n '1997-Clinton.txt',\n '1998-Clinton.txt',\n '1999-Clinton.txt',\n '2000-Clinton.txt',\n '2001-GWBush-1.txt',\n '2001-GWBush-2.txt',\n '2002-GWBush.txt',\n '2003-GWBush.txt',\n '2004-GWBush.txt',\n '2005-GWBush.txt',\n '2006-GWBush.txt']"
     },
     "metadata": {},
     "output_type": "execute_result",
     "execution_count": 18
    }
   ],
   "source": [
    "# speech_list\n",
    "# import a single speech to see what our text looks like so that we can make sure we clean and tokenize it correctly.\n",
    "with open('data/song11.txt') as f:\n",
    "    test_song = f.readlines()\n",
    "    print(test_song)"
   ],
   "metadata": {
    "collapsed": false,
    "pycharm": {
     "name": "#%%\n",
     "is_executing": false
    }
   }
  },
  {
   "cell_type": "code",
   "execution_count": null,
   "outputs": [],
   "source": [],
   "metadata": {
    "collapsed": false,
    "pycharm": {
     "name": "#%%\n"
    }
   }
  }
 ],
 "metadata": {
  "kernelspec": {
   "display_name": "Python 3",
   "language": "python",
   "name": "python3"
  },
  "language_info": {
   "codemirror_mode": {
    "name": "ipython",
    "version": 2
   },
   "file_extension": ".py",
   "mimetype": "text/x-python",
   "name": "python",
   "nbconvert_exporter": "python",
   "pygments_lexer": "ipython2",
   "version": "2.7.6"
  },
  "pycharm": {
   "stem_cell": {
    "cell_type": "raw",
    "source": [],
    "metadata": {
     "collapsed": false
    }
   }
  }
 },
 "nbformat": 4,
 "nbformat_minor": 0
}